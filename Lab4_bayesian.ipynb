{
 "cells": [
  {
   "cell_type": "code",
   "execution_count": 1,
   "id": "900ff9d6",
   "metadata": {},
   "outputs": [],
   "source": [
    "import pandas as pd\n",
    "from sklearn.model_selection import train_test_split\n",
    "from sklearn.naive_bayes import GaussianNB\n",
    "from sklearn import metrics"
   ]
  },
  {
   "cell_type": "code",
   "execution_count": 14,
   "id": "5d82acf7",
   "metadata": {},
   "outputs": [],
   "source": [
    "df = pd.read_csv(\"abalone.csv\")\n",
    "feature_col_names = ['Length','Diameter','Height','Whole weight','Shucked weight','Viscera weight','Shell weight']\n",
    "predicted_class_names = ['Rings']"
   ]
  },
  {
   "cell_type": "code",
   "execution_count": 15,
   "id": "13ad7a46",
   "metadata": {},
   "outputs": [],
   "source": [
    "X = df[feature_col_names].values \n",
    "y = df[predicted_class_names].values"
   ]
  },
  {
   "cell_type": "code",
   "execution_count": 16,
   "id": "8932f896",
   "metadata": {},
   "outputs": [
    {
     "name": "stdout",
     "output_type": "stream",
     "text": [
      "<bound method NDFrame.head of       Length  Diameter  Height  Whole weight  Shucked weight  Viscera weight  \\\n",
      "0      0.455     0.365   0.095        0.5140          0.2245          0.1010   \n",
      "1      0.350     0.265   0.090        0.2255          0.0995          0.0485   \n",
      "2      0.530     0.420   0.135        0.6770          0.2565          0.1415   \n",
      "3      0.440     0.365   0.125        0.5160          0.2155          0.1140   \n",
      "4      0.330     0.255   0.080        0.2050          0.0895          0.0395   \n",
      "...      ...       ...     ...           ...             ...             ...   \n",
      "4172   0.565     0.450   0.165        0.8870          0.3700          0.2390   \n",
      "4173   0.590     0.440   0.135        0.9660          0.4390          0.2145   \n",
      "4174   0.600     0.475   0.205        1.1760          0.5255          0.2875   \n",
      "4175   0.625     0.485   0.150        1.0945          0.5310          0.2610   \n",
      "4176   0.710     0.555   0.195        1.9485          0.9455          0.3765   \n",
      "\n",
      "      Shell weight  Rings  \n",
      "0           0.1500     15  \n",
      "1           0.0700      7  \n",
      "2           0.2100      9  \n",
      "3           0.1550     10  \n",
      "4           0.0550      7  \n",
      "...            ...    ...  \n",
      "4172        0.2490     11  \n",
      "4173        0.2605     10  \n",
      "4174        0.3080      9  \n",
      "4175        0.2960     10  \n",
      "4176        0.4950     12  \n",
      "\n",
      "[4177 rows x 8 columns]>\n",
      "\n",
      " the total number of Training Data : (2798, 1)\n",
      "\n",
      " the total number of Test Data : (1379, 1)\n"
     ]
    }
   ],
   "source": [
    "print(df.head)\n",
    "xtrain,xtest,ytrain,ytest=train_test_split(X,y,test_size=0.33)\n",
    "\n",
    "print ('\\n the total number of Training Data :',ytrain.shape)\n",
    "print ('\\n the total number of Test Data :',ytest.shape)"
   ]
  },
  {
   "cell_type": "code",
   "execution_count": 17,
   "id": "f5352af5",
   "metadata": {},
   "outputs": [],
   "source": [
    "clf = GaussianNB().fit(xtrain,ytrain.ravel())\n",
    "predicted = clf.predict(xtest)\n",
    "predictTestData= clf.predict([[0.455,0.365,0.095,0.514,0.2245,0.101,0.15]])"
   ]
  },
  {
   "cell_type": "code",
   "execution_count": 18,
   "id": "020e1837",
   "metadata": {},
   "outputs": [
    {
     "name": "stdout",
     "output_type": "stream",
     "text": [
      "\n",
      " Confusion matrix\n",
      "[[ 0  0  1  0  0  0  0  0  0  0  0  0  0  0  0  0  0  0  0  0  0  0  0  0\n",
      "   0]\n",
      " [ 0  5  0  0  0  0  0  0  0  0  0  0  0  0  0  0  0  0  0  0  0  0  0  0\n",
      "   0]\n",
      " [ 0  6  6  1  0  0  0  0  0  0  0  0  0  0  0  0  0  0  0  0  0  0  0  0\n",
      "   0]\n",
      " [ 0  4 13 18  5  0  0  0  0  0  0  0  0  0  0  0  0  0  0  0  0  0  0  0\n",
      "   0]\n",
      " [ 0  0  8 33 21 20  5  1  0  0  0  0  0  0  0  0  0  0  0  0  0  0  0  0\n",
      "   0]\n",
      " [ 0  0  2 22 25 43 27  4  1  2  0  0  0  0  0  0  0  0  0  0  0  0  0  0\n",
      "   0]\n",
      " [ 0  0  1  5 12 49 64 35 15  7  0  0  0  0  0  0  0  0  0  0  0  0  0  0\n",
      "   0]\n",
      " [ 0  0  0  4 11 32 43 62 42 39  0  0  0  0  0  0  0  0  0  0  0  0  0  0\n",
      "   0]\n",
      " [ 0  0  0  4 10 10 37 50 38 60  2  0  0  0  0  0  0  0  0  0  0  0  0  0\n",
      "   2]\n",
      " [ 0  0  0  2  1  7 21 21 25 61  7  0  0  0  0  0  0  0  0  0  0  0  0  0\n",
      "   0]\n",
      " [ 0  0  0  0  4 11 19 13 16 30  3  0  0  0  0  0  0  0  1  0  0  0  0  0\n",
      "   2]\n",
      " [ 0  0  0  1  0  4 18 13  9 18  4  0  0  0  1  0  0  0  0  0  0  0  0  0\n",
      "   0]\n",
      " [ 0  0  0  0  0  0  6  8  9 12  3  0  0  0  0  0  0  0  0  0  0  0  0  0\n",
      "   2]\n",
      " [ 0  0  0  0  0  1 10 10 10  7  0  0  0  0  0  0  0  0  1  0  1  0  0  0\n",
      "   0]\n",
      " [ 0  0  0  0  0  2  2  4  6  3  1  0  0  0  0  0  0  0  0  0  0  0  0  0\n",
      "   1]\n",
      " [ 0  0  0  0  0  0  1  6  2  4  0  0  0  0  0  0  0  0  0  0  2  0  0  0\n",
      "   2]\n",
      " [ 0  0  0  0  0  0  2  3  1  8  0  0  0  0  0  0  0  0  1  0  0  0  0  0\n",
      "   1]\n",
      " [ 0  0  0  0  0  0  2  2  1  3  0  0  0  0  0  0  0  0  0  0  0  0  0  0\n",
      "   0]\n",
      " [ 0  0  0  0  0  0  0  1  5  2  0  0  0  0  0  0  0  0  1  0  0  0  0  0\n",
      "   0]\n",
      " [ 0  0  0  0  0  0  1  1  0  1  0  0  0  0  1  0  0  0  2  0  0  0  0  0\n",
      "   0]\n",
      " [ 0  0  0  0  0  0  1  1  0  0  0  0  0  0  0  0  0  0  0  0  0  0  0  0\n",
      "   0]\n",
      " [ 0  0  0  0  0  0  0  0  0  0  0  0  0  0  0  0  0  0  1  0  0  0  0  0\n",
      "   0]\n",
      " [ 0  0  0  0  0  0  0  0  0  0  0  0  0  0  1  0  0  0  0  0  0  0  0  0\n",
      "   0]\n",
      " [ 0  0  0  0  0  0  0  0  1  0  0  0  0  0  0  0  0  0  0  0  0  0  0  0\n",
      "   0]\n",
      " [ 0  0  0  0  0  0  0  0  0  0  0  0  0  0  0  0  0  0  0  0  0  0  0  0\n",
      "   0]]\n",
      "\n",
      " Accuracy of the classifier is 0.233502538071066\n",
      "Predicted Value for individual Test Data: [7]\n"
     ]
    }
   ],
   "source": [
    "print('\\n Confusion matrix')\n",
    "print(metrics.confusion_matrix(ytest,predicted))\n",
    "\n",
    "print('\\n Accuracy of the classifier is',metrics.accuracy_score(ytest,predicted))\n",
    "\n",
    "#print('\\n The value of Precision', average_precision_score(ytest, predicted)\n",
    "\n",
    "#print('\\n The value of Recall', metrics.recall_score(ytest,predicted))\n",
    "\n",
    "print(\"Predicted Value for individual Test Data:\", predictTestData)"
   ]
  },
  {
   "cell_type": "code",
   "execution_count": null,
   "id": "2a30a184",
   "metadata": {},
   "outputs": [],
   "source": []
  }
 ],
 "metadata": {
  "kernelspec": {
   "display_name": "Python 3 (ipykernel)",
   "language": "python",
   "name": "python3"
  },
  "language_info": {
   "codemirror_mode": {
    "name": "ipython",
    "version": 3
   },
   "file_extension": ".py",
   "mimetype": "text/x-python",
   "name": "python",
   "nbconvert_exporter": "python",
   "pygments_lexer": "ipython3",
   "version": "3.9.13"
  }
 },
 "nbformat": 4,
 "nbformat_minor": 5
}
