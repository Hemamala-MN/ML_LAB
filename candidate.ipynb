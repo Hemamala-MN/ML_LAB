{
 "cells": [
  {
   "cell_type": "code",
   "execution_count": 1,
   "id": "6c37d6e0",
   "metadata": {},
   "outputs": [],
   "source": [
    "import numpy as np\n",
    "import pandas as pd"
   ]
  },
  {
   "cell_type": "code",
   "execution_count": 2,
   "id": "cbe6483c",
   "metadata": {},
   "outputs": [],
   "source": [
    "data= pd.read_csv('data.csv - Sheet1.csv')"
   ]
  },
  {
   "cell_type": "code",
   "execution_count": 3,
   "id": "36cf482d",
   "metadata": {},
   "outputs": [
    {
     "name": "stdout",
     "output_type": "stream",
     "text": [
      "     sky airtemp humidity    wind water forecast enjoysport\n",
      "0  sunny    warm   normal  strong  warm     same        yes\n",
      "1  sunny    warm     high  strong  warm     same        yes\n",
      "2  rainy    cold     high  strong  warm   change         no\n",
      "3  sunny    warm     high  strong  cool   change        yes\n"
     ]
    }
   ],
   "source": [
    "print(data)"
   ]
  },
  {
   "cell_type": "code",
   "execution_count": 4,
   "id": "fd64de49",
   "metadata": {},
   "outputs": [
    {
     "name": "stdout",
     "output_type": "stream",
     "text": [
      "[['sunny' 'warm' 'normal' 'strong' 'warm' 'same']\n",
      " ['sunny' 'warm' 'high' 'strong' 'warm' 'same']\n",
      " ['rainy' 'cold' 'high' 'strong' 'warm' 'change']\n",
      " ['sunny' 'warm' 'high' 'strong' 'cool' 'change']]\n"
     ]
    }
   ],
   "source": [
    "d=np.array(data)[:,:-1]\n",
    "print(d)"
   ]
  },
  {
   "cell_type": "code",
   "execution_count": 5,
   "id": "27223b3e",
   "metadata": {},
   "outputs": [
    {
     "name": "stdout",
     "output_type": "stream",
     "text": [
      "target is ['yes' 'yes' 'no' 'yes']\n"
     ]
    }
   ],
   "source": [
    "target=np.array(data)[:,-1]\n",
    "print(\"target is\",target)"
   ]
  },
  {
   "cell_type": "code",
   "execution_count": 9,
   "id": "8233d2c9",
   "metadata": {},
   "outputs": [
    {
     "name": "stdout",
     "output_type": "stream",
     "text": [
      "\n",
      " Initialization of specific_h and general_h\n",
      "['sunny' 'warm' 'normal' 'strong' 'warm' 'same']\n",
      "[['?', '?', '?', '?', '?', '?'], ['?', '?', '?', '?', '?', '?'], ['?', '?', '?', '?', '?', '?'], ['?', '?', '?', '?', '?', '?'], ['?', '?', '?', '?', '?', '?'], ['?', '?', '?', '?', '?', '?']]\n",
      "['sunny' 'warm' 'normal' 'strong' 'warm' 'same']\n",
      "['sunny' 'warm' 'normal' 'strong' 'warm' 'same']\n",
      "['sunny' 'warm' 'normal' 'strong' 'warm' 'same']\n",
      "['sunny' 'warm' 'normal' 'strong' 'warm' 'same']\n",
      "['sunny' 'warm' 'normal' 'strong' 'warm' 'same']\n",
      "['sunny' 'warm' 'normal' 'strong' 'warm' 'same']\n",
      "['sunny' 'warm' 'normal' 'strong' 'warm' 'same']\n",
      "\n",
      " Steps of Candidate Elimination Algorithm 1\n",
      "['sunny' 'warm' 'normal' 'strong' 'warm' 'same']\n",
      "[['?', '?', '?', '?', '?', '?'], ['?', '?', '?', '?', '?', '?'], ['?', '?', '?', '?', '?', '?'], ['?', '?', '?', '?', '?', '?'], ['?', '?', '?', '?', '?', '?'], ['?', '?', '?', '?', '?', '?']]\n",
      "['sunny' 'warm' 'normal' 'strong' 'warm' 'same']\n",
      "['sunny' 'warm' 'normal' 'strong' 'warm' 'same']\n",
      "['sunny' 'warm' '?' 'strong' 'warm' 'same']\n",
      "['sunny' 'warm' '?' 'strong' 'warm' 'same']\n",
      "['sunny' 'warm' '?' 'strong' 'warm' 'same']\n",
      "['sunny' 'warm' '?' 'strong' 'warm' 'same']\n",
      "['sunny' 'warm' '?' 'strong' 'warm' 'same']\n",
      "\n",
      " Steps of Candidate Elimination Algorithm 2\n",
      "['sunny' 'warm' '?' 'strong' 'warm' 'same']\n",
      "[['?', '?', '?', '?', '?', '?'], ['?', '?', '?', '?', '?', '?'], ['?', '?', '?', '?', '?', '?'], ['?', '?', '?', '?', '?', '?'], ['?', '?', '?', '?', '?', '?'], ['?', '?', '?', '?', '?', '?']]\n",
      "['sunny' 'warm' '?' 'strong' 'warm' 'same']\n",
      "\n",
      " Steps of Candidate Elimination Algorithm 3\n",
      "['sunny' 'warm' '?' 'strong' 'warm' 'same']\n",
      "[['sunny', '?', '?', '?', '?', '?'], ['?', 'warm', '?', '?', '?', '?'], ['?', '?', '?', '?', '?', '?'], ['?', '?', '?', '?', '?', '?'], ['?', '?', '?', '?', '?', '?'], ['?', '?', '?', '?', '?', 'same']]\n",
      "['sunny' 'warm' '?' 'strong' 'warm' 'same']\n",
      "['sunny' 'warm' '?' 'strong' 'warm' 'same']\n",
      "['sunny' 'warm' '?' 'strong' 'warm' 'same']\n",
      "['sunny' 'warm' '?' 'strong' 'warm' 'same']\n",
      "['sunny' 'warm' '?' 'strong' '?' 'same']\n",
      "['sunny' 'warm' '?' 'strong' '?' '?']\n",
      "['sunny' 'warm' '?' 'strong' '?' '?']\n",
      "\n",
      " Steps of Candidate Elimination Algorithm 4\n",
      "['sunny' 'warm' '?' 'strong' '?' '?']\n",
      "[['sunny', '?', '?', '?', '?', '?'], ['?', 'warm', '?', '?', '?', '?'], ['?', '?', '?', '?', '?', '?'], ['?', '?', '?', '?', '?', '?'], ['?', '?', '?', '?', '?', '?'], ['?', '?', '?', '?', '?', '?']]\n",
      "\n",
      "Final Specific_h:\n",
      "['sunny' 'warm' '?' 'strong' '?' '?']\n",
      "\n",
      "Final General_h:\n",
      "[['sunny', '?', '?', '?', '?', '?'], ['?', 'warm', '?', '?', '?', '?']]\n"
     ]
    }
   ],
   "source": [
    "def learn(concepts, target):\n",
    "    specific_h = concepts[0].copy()\n",
    "    print(\"\\n Initialization of specific_h and general_h\")\n",
    "    print(specific_h)\n",
    "    general_h = [[\"?\" for i in range(len(specific_h))] for i in range(len(specific_h))]\n",
    "    print(general_h)\n",
    "    for i, h in enumerate(concepts):\n",
    "        if target[i] == \"yes\":\n",
    "            for x in range(len(specific_h)):\n",
    "                if h[x]!= specific_h[x]:\n",
    "                    specific_h[x] ='?'\n",
    "                    general_h[x][x] ='?'\n",
    "                print(specific_h)\n",
    "        print(specific_h)\n",
    "        if target[i] == \"no\":\n",
    "            for x in range(len(specific_h)):\n",
    "                if h[x]!= specific_h[x]:\n",
    "                    general_h[x][x] = specific_h[x]\n",
    "                else:\n",
    "                    general_h[x][x] = '?'\n",
    "        print(\"\\n Steps of Candidate Elimination Algorithm\",i+1)\n",
    "        print(specific_h)\n",
    "        print(general_h)\n",
    "    indices = [i for i, val in enumerate(general_h) if val ==\n",
    "    ['?', '?', '?', '?', '?', '?']]\n",
    "    for i in indices:\n",
    "        general_h.remove(['?', '?', '?', '?', '?', '?'])\n",
    "    return specific_h, general_h\n",
    "\n",
    "s_final, g_final = learn(d, target)\n",
    "\n",
    "#obtaining the final hypothesis\n",
    "print(\"\\nFinal Specific_h:\", s_final, sep=\"\\n\")\n",
    "print(\"\\nFinal General_h:\", g_final, sep=\"\\n\")"
   ]
  },
  {
   "cell_type": "code",
   "execution_count": null,
   "id": "cea12989",
   "metadata": {},
   "outputs": [],
   "source": []
  }
 ],
 "metadata": {
  "kernelspec": {
   "display_name": "Python 3 (ipykernel)",
   "language": "python",
   "name": "python3"
  },
  "language_info": {
   "codemirror_mode": {
    "name": "ipython",
    "version": 3
   },
   "file_extension": ".py",
   "mimetype": "text/x-python",
   "name": "python",
   "nbconvert_exporter": "python",
   "pygments_lexer": "ipython3",
   "version": "3.9.13"
  }
 },
 "nbformat": 4,
 "nbformat_minor": 5
}
